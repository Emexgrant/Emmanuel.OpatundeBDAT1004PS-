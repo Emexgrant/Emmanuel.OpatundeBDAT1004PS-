{
 "cells": [
  {
   "cell_type": "markdown",
   "id": "76c9824e",
   "metadata": {},
   "source": [
    "Problem Set 1\n",
    "This problem set is based on lectures 1,2 and 3. For a complete list of topics please\n",
    "consult page 2 of the course syllabus. Please consult the “Instructions for Problem\n",
    "Set Submissions” document under course information before submitting your\n",
    "assignment.\n",
    "Question 1\n",
    "What data type is each of the following?"
   ]
  },
  {
   "cell_type": "markdown",
   "id": "f684dae3",
   "metadata": {},
   "source": [
    "\n",
    "    \"//5\\t---> Int32\\n\",\n",
    "    \"//5.0 ---> \\tDouble\\n\",\n",
    "    \"//5>1 ---> \\tBoolean\\n\",\n",
    "    \"//'5' ---> \\tString\\n\",\n",
    "    \"//5*2 ---> \\tInt32\\n\",\n",
    "    \"//'5' * 2 ---> \\tString\\n\",\n",
    "    \"//'5' + '2'\\t--->  String\\n\",\n",
    "    \"//5 / 2\\t--->  Int32\\n\",\n",
    "    \"//5%2 ---> \\tDouble\\n\",\n",
    "    \"//{5, 2, 1} ---> \\tList\\n\",\n",
    "    \"//5 == 3  --->  Boolean\\n\",\n",
    "    \"//Pi(the number) --->  Double\"\n",
    "    \n",
    "    "
   ]
  },
  {
   "cell_type": "markdown",
   "id": "70678215",
   "metadata": {},
   "source": [
    "Question 2 C#\n",
    "Write (and evaluate) C# expressions that answer these questions:\n",
    "a. How many letters are there in 'Supercalifragilisticexpialidocious'?\n",
    "b. Does 'Supercalifragilisticexpialidocious' contain 'ice' as a substring? \n",
    "c. Which of the following words is the longest:\n",
    "Supercalifragilisticexpialidocious, Honorificabilitudinitatibus, or\n",
    "Bababadalgharaghtakamminarronnkonn?\n",
    "d. Which composer comes first in the dictionary: 'Berlioz', 'Borodin', 'Brian',\n",
    "'Bartok', 'Bellini', 'Buxtehude', 'Bernstein'. Which one comes last?\n"
   ]
  },
  {
   "cell_type": "code",
   "execution_count": 5,
   "id": "fe270911",
   "metadata": {},
   "outputs": [
    {
     "name": "stdout",
     "output_type": "stream",
     "text": [
      "String Length:34\n",
      "Does 'Supercalifragilisticexpialidocious' contain 'ice' as a substring?\n",
      "True\n"
     ]
    }
   ],
   "source": [
    "///2a.\n",
    "\n",
    "string Expression = \"Supercalifragilisticexpialidocious\";\n",
    "Console.WriteLine(\"String Length:\"+Expression.Length);\n",
    "Console.ReadLine();\n",
    "\n",
    "//2b. Does 'Supercalifragilisticexpialidocious' contain 'ice' as a substring?\n",
    "\n",
    "bool bool_variable = Expression.Contains(\"ice\");\n",
    "Console.WriteLine($\"Does 'Supercalifragilisticexpialidocious' contain 'ice' as a substring?\\n{bool_variable}\");"
   ]
  },
  {
   "cell_type": "code",
   "execution_count": 6,
   "id": "1d211405",
   "metadata": {},
   "outputs": [
    {
     "name": "stdout",
     "output_type": "stream",
     "text": [
      "The longest word (is/are)\n",
      "Supercalifragilisticexpialidocious Bababadalgharaghtakamminarronnkonn\n"
     ]
    }
   ],
   "source": [
    "//2c.\n",
    "\n",
    "string x = \"Supercalifragilisticexpialidocious\";\n",
    "string y = \"Honorificabilitudinitatibus\";\n",
    "string z = \"Bababadalgharaghtakamminarronnkonn\";\n",
    "\n",
    "//setting longest string variable\n",
    "string longest = \"\";\n",
    "\n",
    "//setting conditional statements to check for longest words\n",
    "if (x.Length >= y.Length && x.Length >= z.Length)\n",
    "{\n",
    "\n",
    "    longest = x;\n",
    "}\n",
    "if (y.Length >= x.Length && y.Length >= z.Length)\n",
    "{\n",
    "    longest = $\"{longest} {y}\";\n",
    "}\n",
    "if (z.Length >= x.Length && z.Length >= y.Length)\n",
    "{\n",
    "    longest = $\"{longest} {z}\";\n",
    "}\n",
    "//printing longest words\n",
    "Console.WriteLine(\"The longest word (is/are)\");\n",
    "Console.WriteLine(longest);"
   ]
  },
  {
   "cell_type": "code",
   "execution_count": 7,
   "id": "5b97e245",
   "metadata": {},
   "outputs": [
    {
     "name": "stdout",
     "output_type": "stream",
     "text": [
      "First composer in the dictionary: Bartok\n",
      "Last composer in the dictionary: Buxtehude\n"
     ]
    }
   ],
   "source": [
    "//2d.\n",
    "List<string> Composers = new List<string>();\n",
    "\n",
    "\n",
    "Composers.Add(\"Berlioz\");\n",
    "Composers.Add(\"Borodin\");\n",
    "Composers.Add(\"Brain\");\n",
    "Composers.Add(\"Bartok\");\n",
    "Composers.Add(\"Bellini\");\n",
    "Composers.Add(\"Buxtehude\");\n",
    "Composers.Add(\"Bernstein\");\n",
    "\n",
    "//sorting list of composers in ascending order\n",
    "Composers.Sort();\n",
    "\n",
    "//taking a count of items in the list\n",
    "int len = Composers.Count;\n",
    "\n",
    "//storing last list item in a variable\n",
    "int lastobjectpositon = len - 1;\n",
    "\n",
    "//printing first and last item of list\n",
    "Console.WriteLine(\"First composer in the dictionary: {0}\", Composers[0]);\n",
    "Console.WriteLine(\"Last composer in the dictionary: {0}\", Composers[lastobjectpositon]);"
   ]
  },
  {
   "cell_type": "markdown",
   "id": "dfedfec2",
   "metadata": {},
   "source": [
    "Question 3 C#\n",
    "Implement function triangleArea(a,b,c) that takes as input the lengths of the 3\n",
    "sides of a triangle and returns the area of the triangle. By Heron's formula, the area\n",
    "of a triangle with side lengths a, b, and c is\n",
    "s(s - a)(s -b)(s -c)\n",
    ", where\n",
    "s = (a+b+c)/2.\n",
    ">>> triangleArea(2,2,2)\n",
    "1.7320508075688772"
   ]
  },
  {
   "cell_type": "code",
   "execution_count": 10,
   "id": "adcfe28a",
   "metadata": {},
   "outputs": [
    {
     "name": "stdout",
     "output_type": "stream",
     "text": [
      "Program to Find Area of Triangle\n",
      "The area of the triangle with sides 2, 2, 2 is \n",
      "1.7320508075688772\n"
     ]
    }
   ],
   "source": [
    
    "static void triangleArea(double a, double b, double c)\n",
    "{\n",
    "    Console.WriteLine(\"Program to Find Area of Triangle\");\n",
    "    //setting data type for variables\n",
    "    double s, area;\n",
    "\n",
    "    //calculate area\n",
    "    s = (a + b + c) / 2;\n",
    "    area = Math.Sqrt(s * (s - a) * (s - b) * (s - c));\n",
    "\n",
    "    // return the calculated area\n",
    "    Console.WriteLine($\"The area of the triangle with sides {a}, {b}, {c} is \\n{area}\");\n",
    "}\n",
    "triangleArea(2, 2, 2);"
   ]
  },
  {
   "cell_type": "markdown",
   "id": "9af60b8b",
   "metadata": {},
   "source": [
    "Question 4 C#\n",
    "Write a program in C# Sharp to separate odd and even integers in separate arrays.\n",
    "Go to the editor\n",
    "Test Data :\n",
    "Input the number of elements to be stored in the array :5\n",
    "Input 5 elements in the array :\n",
    "element - 0 : 25\n",
    "element - 1 : 47\n",
    "element - 2 : 42\n",
    "element - 3 : 56\n",
    "element - 4 : 32\n",
    "Expected Output:\n",
    "The Even elements are:\n",
    "42 56 32\n",
    "The Odd elements are :\n",
    "25 47"
   ]
  },
  {
   "cell_type": "code",
   "execution_count": 12,
   "id": "552e01bd",
   "metadata": {},
   "outputs": [
    {
     "name": "stdout",
     "output_type": "stream",
     "text": [
      "How many numbers you want to input?\n",
      "Enter 0 numbers in the array :\n",
      "Even numbers are:\n",
      "\n",
      "---------------------------------------------\n",
      "Odd numbers are:\n"
     ]
    }
   ],
   "source": [
    "Console.WriteLine(\"How many numbers you want to input?\");\n",
    "int num = Convert.ToInt32(Console.ReadLine());\n",
    "int[] array1 = new int[10];\n",
    "int[] array2 = new int[10];\n",
    "int[] array3 = new int[10];\n",
    "int i, j = 0, k = 0;\n",
    "\n",
    "//validating input of user\n",
    "Console.WriteLine(\"Enter {0} numbers in the array :\", num);\n",
    "for (i = 0; i < num; i++)\n",
    "{\n",
    "    Console.Write(\"Number - {0} : \", i + 1);\n",
    "    array1[i] = Convert.ToInt32(Console.ReadLine());\n",
    "}\n",
    "\n",
    "//checking for odd and even numbers\n",
    "for (i = 0; i < num; i++)\n",
    "{\n",
    "    if (array1[i] % 2 == 0)\n",
    "    {\n",
    "        array2[j] = array1[i];\n",
    "        j++;\n",
    "    }\n",
    "    else\n",
    "    {\n",
    "        array3[k] = array1[i];\n",
    "        k++;\n",
    "    }\n",
    "}\n",
    "\n",
    "//printing even numbers\n",
    "Console.WriteLine(\"Even numbers are:\");\n",
    "for (i = 0; i < j; i++)\n",
    "{\n",
    "    Console.Write(\"{0} \", array2[i]);\n",
    "}\n",
    "Console.WriteLine();\n",
    "Console.WriteLine(\"---------------------------------------------\");\n",
    "\n",
    "//printing odd numbers\n",
    "Console.WriteLine(\"Odd numbers are:\");\n",
    "for (i = 0; i < k; i++)\n",
    "{\n",
    "    Console.Write(\"{0} \", array3[i]);\n",
    "}"
   ]
  },
  {
   "cell_type": "markdown",
   "id": "91742268",
   "metadata": {},
   "source": [
    "Question 5 C#\n",
    "a. Write a function inside(x,y,x1,y1,x2,y2) that returns True or False\n",
    "depending on whether the point (x,y) lies in the rectangle with lower left\n",
    "corner (x1,y1) and upper right corner (x2,y2).\n",
    ">>> inside(1,1,0,0,2,3)\n",
    "True\n",
    ">>> inside(-1,-1,0,0,2,3)\n",
    "False\n",
    "b. Use function inside() from part a. to write an expression that tests whether\n",
    "the point (1,1) lies in both of the following rectangles: one with lower left\n",
    "corner (0.3, 0.5) and upper right corner (1.1, 0.7) and the other with lower\n",
    "left corner (0.5, 0.2) and upper right corner (1.1, 2). "
   ]
  },
  {
   "cell_type": "code",
   "execution_count": 14,
   "id": "79a30af9",
   "metadata": {},
   "outputs": [
    {
     "name": "stdout",
     "output_type": "stream",
     "text": [
      "True"
     ]
    }
   ],
   "source": [
    "static void inside(double x, double y, double x1, double y1, double x2, double y2)\n",
    "{\n",
    "    // code to set conditions\n",
    "    if (x > x1 && x < x2 && y > y1 && y < y2)\n",
    "    {\n",
    "        Console.Write(\"True\");\n",
    "    }\n",
    "    else\n",
    "        Console.Write(\"False\");\n",
    "}\n",
    "//code to call function\n",
    "inside(1, 1, 0, 0, 2, 3);"
   ]
  },
  {
   "cell_type": "code",
   "execution_count": 15,
   "id": "2e95c3c1",
   "metadata": {},
   "outputs": [
    {
     "name": "stdout",
     "output_type": "stream",
     "text": [
      "Code to check whether the point lies inside the rectangle\n",
      "For (1, 1, 0.3, 0.5, 1.1, 0.7)\n",
      "False\n",
      "\n",
      "For (1, 1, 0.5, 0.2, 1.1, 2)\n",
      "True"
     ]
    }
   ],
   "source": [
    "//5b\n",
    "\n",
    "static void Main()\n",
    "{\n",
    "    // code to check first points\n",
    "    Console.WriteLine(\"Code to check whether the point lies inside the rectangle\");\n",
    "    Console.WriteLine(\"For (1, 1, 0.3, 0.5, 1.1, 0.7)\");\n",
    "    inside(1, 1, 0.3, 0.5, 1.1, 0.7);\n",
    "    Console.WriteLine();\n",
    "    Console.WriteLine();\n",
    "\n",
    "    // code to check second points\n",
    "    Console.WriteLine(\"For (1, 1, 0.5, 0.2, 1.1, 2)\");\n",
    "    inside(1, 1, 0.5, 0.2, 1.1, 2);\n",
    "}\n",
    "\n",
    "//calling function\n",
    "Main();"
   ]
  },
  {
   "cell_type": "code",
   "execution_count": null,
   "id": "cf1c1019",
   "metadata": {},
   "outputs": [],
   "source": []
  }
 ],
 "metadata": {
  "kernelspec": {
   "display_name": ".NET (C#)",
   "language": "C#",
   "name": ".net-csharp"
  },
  "language_info": {
   "file_extension": ".cs",
   "mimetype": "text/x-csharp",
   "name": "C#",
   "pygments_lexer": "csharp",
   "version": "8.0"
  }
 },
 "nbformat": 4,
 "nbformat_minor": 5
}
