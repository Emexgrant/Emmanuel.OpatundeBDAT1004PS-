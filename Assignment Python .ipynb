{
 "cells": [
  {
   "cell_type": "markdown",
   "id": "f912e6b3",
   "metadata": {},
   "source": [
    "Question 6 Python\n",
    "16. You can turn a word into pig-Latin using the following two rules (simplified):\n",
    "• If the word starts with a consonant, move that letter to the end and append\n",
    "'ay'. For example, 'happy' becomes 'appyhay' and 'pencil' becomes 'encilpay'.\n",
    "• If the word starts with a vowel, simply append 'way' to the end of the word.\n",
    "For example, 'enter' becomes 'enterway' and 'other' becomes 'otherway' . For\n",
    "our purposes, there are 5 vowels: a, e, i, o, u (so we count y as a consonant).\n",
    "Write a function pig() that takes a word (i.e., a string) as input and returns its pigLatin form. Your function should still work if the input word contains upper case\n",
    "characters. Your output should always be lower case however.\n",
    ">>> pig('happy')\n",
    "'appyhay'\n",
    ">>> pig('Enter')\n",
    "'enterway' "
   ]
  },
  {
   "cell_type": "code",
   "execution_count": 1,
   "id": "70d4aea9",
   "metadata": {},
   "outputs": [
    {
     "name": "stdout",
     "output_type": "stream",
     "text": [
      "pig('happy') - \n",
      "appyhay \n",
      "pig('enter') - \n",
      "enterway \n"
     ]
    }
   ],
   "source": [
    "\n",
    "def pig(word):\n",
    "    #Transforms normal english to pig language, if is consonant it moves the letter to the end and append \"ay\"\n",
    "    z = word.lower()\n",
    "    words = z.split()\n",
    "    vowels = (\"a\",\"e\",\"i\",\"o\",\"u\")\n",
    "    if z[0] in vowels:\n",
    "        for word in words:\n",
    "            print(word + \"way\", end = \" \")\n",
    "    else:\n",
    "        for word in words:\n",
    "            print(word[1:] + word[0] + \"ay\", end = \" \")\n",
    "    print()\n",
    "    \n",
    "print(\"pig('happy') - \")\n",
    "pig('happy')\n",
    "print(\"pig('enter') - \")\n",
    "pig('enter')"
   ]
  },
  {
   "cell_type": "markdown",
   "id": "ae597fb7",
   "metadata": {},
   "source": [
    "Question 7 Python\n",
    "File bloodtype1.txt records blood-types of patients (A, B, AB, O or OO) at a clinic.\n",
    "Write a function bldcount() that reads the file with name name and reports (i.e.,\n",
    "prints) how many patients there are in each bloodtype.\n",
    ">>> bldcount('bloodtype.txt')\n",
    "There are 10 patients of blood type A.\n",
    "There is one patient of blood type B.\n",
    "There are 10 patients of blood type AB.\n",
    "There are 12 patients of blood type O.\n",
    "There are no patients of blood type OO.\n"
   ]
  },
  {
   "cell_type": "code",
   "execution_count": 6,
   "id": "44709202",
   "metadata": {},
   "outputs": [
    {
     "name": "stdout",
     "output_type": "stream",
     "text": [
      "bldcount('bloodtype1.txt'): \n",
      "There are 15 patient patients of blood type A\n",
      "There is 1 patient of blood type B\n",
      "There are 13 patient patients of blood type AB\n",
      "There are 15 patient patients of blood type O\n",
      "There are no patient patients of blood type OO\n"
     ]
    }
   ],
   "source": [
    "\n",
    "def bldcount(txt):\n",
    "    with open(txt) as f:\n",
    "        lines = f.read()\n",
    "    bg = lines.split()\n",
    "    \n",
    "    global a,b,ab,o,oo\n",
    "    a = 0\n",
    "    b = 0\n",
    "    ab = 0\n",
    "    o = 0\n",
    "    oo = 0\n",
    "    for blood in bg:\n",
    "        if blood == 'A' :\n",
    "            a = a+1            \n",
    "        elif blood == 'B':\n",
    "            b = b+1\n",
    "        elif blood == 'AB':\n",
    "            ab = ab+1\n",
    "        elif blood == 'O':\n",
    "            o = o+1\n",
    "        elif blood == 'OO':\n",
    "            oo = oo+1\n",
    "    print(\"There \" + ('is ' if (a==1) else 'are ') + ('no' if (a==0) else str(a)) + (' patient' if (b==1) else ' patients') +\" patients of blood type A\")\n",
    "    print(\"There \" + ('is ' if (b==1) else 'are ' )+ ('no' if (b==0) else str(b)) + (' patient' if (b==1) else ' patients') +\" of blood type B\")\n",
    "    print(\"There \" + ('is ' if (ab==1) else 'are ' )+ ('no' if (ab==0) else str(ab)) + (' patient' if (b==1) else ' patients') +\" patients of blood type AB\")\n",
    "    print(\"There \" + ('is ' if (o==1) else 'are ' )+ ('no' if (o==0) else str(o)) + (' patient' if (b==1) else ' patients') +\" patients of blood type O\")\n",
    "    print(\"There \" + ('is ' if (oo==1) else 'are ' )+ ('no' if (oo==0) else str(oo)) + (' patient' if (b==1) else ' patients') +\" patients of blood type OO\")\n",
    "\n",
    "print(\"bldcount('bloodtype1.txt'): \")    \n",
    "bldcount('bloodtype1.txt')"
   ]
  },
  {
   "cell_type": "markdown",
   "id": "a4679b59",
   "metadata": {},
   "source": [
    "Question 8 Python\n",
    "Write a function curconv() that takes as input:\n",
    "1. a currency represented using a string (e.g., 'JPY' for the Japanese Yen or\n",
    "'EUR' for the Euro)\n",
    "2. an amount\n",
    "and then converts and returns the amount in US dollars.\n"
   ]
  },
  {
   "cell_type": "code",
   "execution_count": 9,
   "id": "0e7c01ab",
   "metadata": {},
   "outputs": [
    {
     "name": "stdout",
     "output_type": "stream",
     "text": [
      "curconv('EUR' , 100): \n",
      "122.96544\n",
      "curconv('JPY' , 100): \n",
      "1.241401\n"
     ]
    }
   ],
   "source": [
    "\n",
    "currency = \"\"\n",
    "res = int\n",
    "def curconv(cur,amt):\n",
    "    if cur == \"AUD\":\n",
    "        res = 1.0345157*amt\n",
    "        currency = \"Australian Dollar\"\n",
    "    elif cur == \"CHF\":\n",
    "        res =  1.0237414*amt\n",
    "        currency = \"Swiss Franc\"\n",
    "    elif cur == \"CNY\":\n",
    "        res =  0.1550176*amt\n",
    "        currency = \"Chinese Yuan\"\n",
    "    elif cur == \"DKK\":\n",
    "        res =  0.1651442*amt\n",
    "        currency = \"Danish Krone\"\n",
    "    elif cur == \"EUR\":\n",
    "        res =  1.2296544*amt\n",
    "        currency = \"Euro\"\n",
    "    elif cur == \"GBP\":\n",
    "        res =  1.5550989*amt\n",
    "        currency = \"British Pound\"\n",
    "    elif cur == \"HKD\":\n",
    "        res =  0.1270207*amt\n",
    "        currency = \"Hong Kong Dollar\"\n",
    "    elif cur == \"INR\":\n",
    "        res =  0.0177643*amt\n",
    "        currency = \"Indian Rupee\"\n",
    "    elif cur == \"JPY\":\n",
    "        res =  0.01241401*amt\n",
    "        currency = \"Japanese Yen\"\n",
    "    elif cur == \"MXN\":\n",
    "        res =  0.0751848*amt\n",
    "        currency = \"Mexican Peso\"\n",
    "    elif cur == \"MYR\":\n",
    "        res =  0.3145411*amt\n",
    "        currency = \"Malaysian Ringgit\"\n",
    "    elif cur == \"NOK\":\n",
    "        res =  0.1677063*amt\n",
    "        currency = \"Norwegian Krone\"\n",
    "    elif cur == \"NZD\":\n",
    "        res =  0.8003591*amt\n",
    "        currency = \"New Zealand Dollar\"\n",
    "    elif cur == \"PHP\":\n",
    "        res =  0.0233234*amt\n",
    "        currency = \"Philippine Peso\"\n",
    "    elif cur == \"SEK\":\n",
    "        res =  0.148269*amt\n",
    "        currency = \"Swedish Krona\"\n",
    "    elif cur == \"SGD\":\n",
    "        res =  0.788871*amt\n",
    "        currency = \"Singapore Dollar\"\n",
    "    elif cur == \"THB\":\n",
    "        res =  0.0313789*amt\n",
    "        currency = \"Thai Baht\"\n",
    "        \n",
    "    print (str(res))\n",
    "\n",
    "print(\"curconv('EUR' , 100): \")\n",
    "curconv(\"EUR\" , 100)\n",
    "print(\"curconv('JPY' , 100): \")\n",
    "curconv(\"JPY\" , 100)"
   ]
  },
  {
   "cell_type": "markdown",
   "id": "5b568ef8",
   "metadata": {},
   "source": [
    "Question 9 Python\n",
    "Each of the following will cause an exception (an error). Identify what type of\n",
    "exception each will cause.\n"
   ]
  },
  {
   "cell_type": "code",
   "execution_count": 11,
   "id": "24bba445",
   "metadata": {},
   "outputs": [
    {
     "name": "stdout",
     "output_type": "stream",
     "text": [
      "unsupported operand type(s) for +: 'int' and 'str'\n",
      "list index out of range\n",
      "math domain error\n",
      "name 'x' is not defined\n",
      "[Errno 2] No such file or directory: 'class.txt'\n"
     ]
    }
   ],
   "source": [
    "\n",
    "import math\n",
    "\n",
    "#Adding an incompactible variable\n",
    "try:\n",
    "    print(6 + 'a')\n",
    "except Exception as e:\n",
    "    print(e)\n",
    "\n",
    "#Referring to the 12th item of a list that has only 10 items\n",
    "try:\n",
    "    list = [20, 70, 75, 51, 8, 44, 10, 3, 39, 64]\n",
    "    print(list[12])\n",
    "except Exception as e:\n",
    "    print(e)\n",
    "\n",
    "#Using a value that is out of range for a function's input, such as calling math.sqrt(-1.0)\n",
    "try:\n",
    "    print(math.sqrt(-1.0))\n",
    "except Exception as e:\n",
    "    print(e)\n",
    "\n",
    "#Using an undeclared variable such as print (x), when x has not been defined\n",
    "try:\n",
    "    print(x)\n",
    "except Exception as e:\n",
    "    print(e)\n",
    "\n",
    "#Trying to open a file that doesnt exist, such as mistyping the file name or looking in the wrong directory\n",
    "try:\n",
    "    f = open(\"class.txt\")\n",
    "    f.close()\n",
    "except Exception as e:\n",
    "    print(e) \n"
   ]
  },
  {
   "cell_type": "markdown",
   "id": "15a0d609",
   "metadata": {},
   "source": [
    "Question 10 Python\n",
    "Encryption is the process of hiding the meaning of a text by substituting letters in the\n",
    "message with other letters, according to some system. If the process is successful, no\n",
    "one but the intended recipient can understand the encrypted message. Cryptanalysis\n",
    "refers to attempts to undo the encryption, even if some details of the encryption are\n",
    "unknown (for example, if an encrypted message has been intercepted). The first step\n",
    "of cryptanalysis is often to build up a table of letter frequencies in the encrypted text.\n",
    "Assume that the string letters is already defined as\n",
    "'abcdefghijklmnopqrstuvwxyz'. Write a function called frequencies()\n",
    "that takes a string as its only parameter, and returns a list of integers, showing the\n",
    "number of times each character appears in the text. Your function may ignore any\n",
    "characters that are not in letters.\n",
    ">>> frequencies('The quick red fox got bored and went home.')\n",
    "[1, 1, 1, 3, 5, 1, 1, 2, 1, 0, 1, 0, 1, 2, 4, 0, 1, 2, 0, 2,\n",
    "1, 0, 1, 1, 0, 0]\n",
    ">>> frequencies('apple')"
   ]
  },
  {
   "cell_type": "code",
   "execution_count": 13,
   "id": "42040ff9",
   "metadata": {},
   "outputs": [
    {
     "name": "stdout",
     "output_type": "stream",
     "text": [
      "Input = The quick red fox got bored and went home.\n",
      "Output:\n",
      "[1, 1, 1, 3, 5, 1, 1, 2, 1, 0, 1, 0, 1, 2, 4, 0, 1, 2, 0, 2, 1, 0, 1, 1, 0, 0]\n",
      "Input = apple\n",
      "Output:\n",
      "[1, 0, 0, 0, 1, 0, 0, 0, 0, 0, 0, 1, 0, 0, 0, 2, 0, 0, 0, 0, 0, 0, 0, 0, 0, 0]\n"
     ]
    }
   ],
   "source": [
    "def frequencies(word):\n",
    "  alphabets = \"abcdefghijklmnopqrstuvwqyz\"\n",
    "  counts = []\n",
    "  for letter in alphabets:\n",
    "    count = word.count(letter)\n",
    "    counts.append(count)\n",
    "  print(counts)   \n",
    "\n",
    "print(\"Input = The quick red fox got bored and went home.\")\n",
    "print(\"Output:\")\n",
    "frequencies(\"The quick red fox got bored and went home.\")\n",
    "print(\"Input = apple\")\n",
    "print(\"Output:\")\n",
    "frequencies(\"apple\")\n"
   ]
  },
  {
   "cell_type": "code",
   "execution_count": null,
   "id": "4df7e8f7",
   "metadata": {},
   "outputs": [],
   "source": []
  }
 ],
 "metadata": {
  "kernelspec": {
   "display_name": "Python 3 (ipykernel)",
   "language": "python",
   "name": "python3"
  },
  "language_info": {
   "codemirror_mode": {
    "name": "ipython",
    "version": 3
   },
   "file_extension": ".py",
   "mimetype": "text/x-python",
   "name": "python",
   "nbconvert_exporter": "python",
   "pygments_lexer": "ipython3",
   "version": "3.9.12"
  }
 },
 "nbformat": 4,
 "nbformat_minor": 5
}
